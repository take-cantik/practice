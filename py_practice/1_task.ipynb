{
 "cells": [
  {
   "cell_type": "markdown",
   "metadata": {},
   "source": [
    "# HAITLabプライマリーコース  Python3 チュートリアル"
   ]
  },
  {
   "cell_type": "code",
   "execution_count": 1,
   "metadata": {},
   "outputs": [],
   "source": [
    "# モジュールのインポート(必ず実行してください。)\n",
    "import numpy as np\n",
    "import pandas as pd\n",
    "import matplotlib.pyplot as plt\n",
    "%matplotlib inline"
   ]
  },
  {
   "cell_type": "markdown",
   "metadata": {},
   "source": [
    "## 問1 Pythonの文法 (?/20)"
   ]
  },
  {
   "cell_type": "markdown",
   "metadata": {},
   "source": [
    "### 問1.1 FizzBuzz\n",
    "<font size=\"3\" >[アルゴリズム]</font><br>\n",
    "数字を1からnまでを順に出力する。ただし、3で割り切れる時は、**\"Fizz\"**、5で割り切れる時は**\"Buzz\"**、15で割り切れる時は、**\"FIzzBuzz\"**と数字の代わりに出力する。以下はFizzBuzzゲームの進行例である。\n",
    "\n",
    "\n",
    ">1 2, Fizz 4 Buzz Fizz 7 8 FizBuzz 11 Fizz 13 14 FizzBuzz 16 17 Fizz 19 Buzz ...."
   ]
  },
  {
   "cell_type": "markdown",
   "metadata": {},
   "source": [
    "### (1) 1から100までの値でFizzBuzzゲームをするプログラムを実装せよ。"
   ]
  },
  {
   "cell_type": "code",
   "execution_count": 2,
   "metadata": {},
   "outputs": [
    {
     "name": "stdout",
     "output_type": "stream",
     "text": [
      "1 2 Fizz 4 Buzz Fizz 7 8 Fizz Buzz 11 Fizz 13 14 FizzBuzz 16 17 Fizz 19 Buzz Fizz 22 23 Fizz Buzz 26 Fizz 28 29 FizzBuzz 31 32 Fizz 34 Buzz Fizz 37 38 Fizz Buzz 41 Fizz 43 44 FizzBuzz 46 47 Fizz 49 Buzz Fizz 52 53 Fizz Buzz 56 Fizz 58 59 FizzBuzz 61 62 Fizz 64 Buzz Fizz 67 68 Fizz Buzz 71 Fizz 73 74 FizzBuzz 76 77 Fizz 79 Buzz Fizz 82 83 Fizz Buzz 86 Fizz 88 89 FizzBuzz 91 92 Fizz 94 Buzz Fizz 97 98 Fizz Buzz \n"
     ]
    }
   ],
   "source": [
    "##FizzBuzz 1~100の数字でFIzzBuzzゲームを実装する(3点)\n",
    "\n",
    "result = \"\"\n",
    "\n",
    "for i in range(100):\n",
    "    if (i + 1) % 15 == 0:\n",
    "        result += \"FizzBuzz \"\n",
    "    elif (i + 1) % 5 == 0:\n",
    "        result += \"Buzz \"\n",
    "    elif (i + 1) % 3 == 0:\n",
    "        result += \"Fizz \"\n",
    "    else:\n",
    "        result += str(i + 1) + \" \"\n",
    "\n",
    "print(result)\n",
    "        "
   ]
  },
  {
   "cell_type": "markdown",
   "metadata": {},
   "source": [
    "### (2) 引数として変数nを受け取ると、1~nまでのFizzBuzzゲームの結果を出力する関数FizzBuzzを実装せよ。"
   ]
  },
  {
   "cell_type": "code",
   "execution_count": 3,
   "metadata": {},
   "outputs": [
    {
     "name": "stdout",
     "output_type": "stream",
     "text": [
      "1 2 Fizz 4 Buzz Fizz 7 8 Fizz Buzz 11 Fizz 13 14 FizzBuzz 16 17 Fizz 19 Buzz Fizz 22 23 Fizz Buzz 26 Fizz 28 29 FizzBuzz 31 32 Fizz 34 Buzz Fizz 37 38 Fizz Buzz 41 Fizz 43 44 FizzBuzz 46 47 Fizz 49 Buzz Fizz 52 53 Fizz Buzz 56 Fizz 58 59 FizzBuzz 61 62 Fizz 64 Buzz Fizz 67 68 Fizz Buzz 71 Fizz 73 74 FizzBuzz 76 77 Fizz 79 Buzz Fizz 82 83 Fizz Buzz 86 Fizz 88 89 FizzBuzz 91 92 Fizz 94 Buzz Fizz 97 98 Fizz Buzz \n"
     ]
    }
   ],
   "source": [
    "## def FizzBuzz(n)を実装する。(２点)\n",
    "def FizzBuzz(n):         \n",
    "    \n",
    "    result = \"\"\n",
    "    \n",
    "    for n in range(n):\n",
    "        if (n + 1) % 15 == 0:\n",
    "            result += \"FizzBuzz \"\n",
    "        elif (n + 1) % 5 == 0:\n",
    "            result += \"Buzz \"\n",
    "        elif (n + 1) % 3 == 0:\n",
    "            result += \"Fizz \"\n",
    "        else:\n",
    "            result += str(n + 1) + \" \"\n",
    "\n",
    "    print(result)\n",
    "\n",
    "## 実行結果の確認\n",
    "FizzBuzz(100)"
   ]
  },
  {
   "cell_type": "markdown",
   "metadata": {},
   "source": [
    "### 問1.2数当てゲーム\n",
    "<font size=\"3\" >[アルゴリズム]</font><br> \n",
    "コンピュータが選んだ1から100までの整数の乱数を当てるゲームです。\n",
    "1. 1から100までの乱数を生成、あたりの数とする。\n",
    "1. 標準入力として、1から100までの数字を受け取る。(チャンスは20回までとする)\n",
    "1. あたりの数と標準入力の値を比較して、以下のようなメッセージを出力します。\n",
    "    - <font color=\"#006400\">標準入力 < あたりの数 </font>の時は**\"もっと大きな数です。\"**と表示する。\n",
    "    - <font color=\"#006400\">標準入力 < あたりの数 </font>の時は**\"もっと小さな数です。\"**と表示する。\n",
    "1. 正解かどうか判断し、結果を表示する。  \n",
    "\n",
    "以下は実行結果の例である。\n",
    "\n",
    ">数当てゲームスタート    \n",
    "1~100までの数を当ててください。(1回目)  \n",
    "＞200  \n",
    "範囲外の数を入力しないでください!  \n",
    "1~100までの数を当ててください。(1回目)  \n",
    "＞30  \n",
    "もっと大きな数です。  \n",
    "1~100までの数を当ててください。(2回目)  \n",
    "＞50  \n",
    "もっと小さな数です。  \n",
    "1~100までの数を当ててください。(3回目)  \n",
    "＞34  \n",
    "正解です!  "
   ]
  },
  {
   "cell_type": "markdown",
   "metadata": {},
   "source": [
    "<font size=\"3\" >[ヒント1]</font>  \n",
    "乱数を生成するには`random.randint(a,b)`を使います。  \n",
    "`random.randint(a,b)`は`a <= n <= b`のランダムな`int型`の値を返します。"
   ]
  },
  {
   "cell_type": "code",
   "execution_count": 4,
   "metadata": {},
   "outputs": [
    {
     "name": "stdout",
     "output_type": "stream",
     "text": [
      "5\n"
     ]
    }
   ],
   "source": [
    "#乱数の生成 サンプル\n",
    "from random import randint\n",
    "#1~10の乱数生成\n",
    "rand = randint(1,10)\n",
    "print(rand)"
   ]
  },
  {
   "cell_type": "markdown",
   "metadata": {},
   "source": [
    "<font size=\"3\" >[ヒント2]</font>  \n",
    "条件分岐からの抜け出すには`break`と`continue`を使います。"
   ]
  },
  {
   "cell_type": "code",
   "execution_count": 5,
   "metadata": {},
   "outputs": [
    {
     "name": "stdout",
     "output_type": "stream",
     "text": [
      "1 2 4 5 7 8 10 11 13 14 16 17 19 20 22 23 25 26 28 29 "
     ]
    }
   ],
   "source": [
    "#break continueサンプル\n",
    "#3の倍数を飛ばし、30を超えると強制終了する。\n",
    "for i in range(1,100):\n",
    "    if i%3 == 0:\n",
    "        continue\n",
    "    if i > 30:\n",
    "        break\n",
    "    print(i, end=' ')"
   ]
  },
  {
   "cell_type": "markdown",
   "metadata": {},
   "source": [
    "<font size=\"3\" >[ヒント3]</font>  \n",
    "標準入力には`input()`を使います。"
   ]
  },
  {
   "cell_type": "code",
   "execution_count": 6,
   "metadata": {},
   "outputs": [
    {
     "name": "stdout",
     "output_type": "stream",
     "text": [
      "1\n",
      "1\n",
      "input>>>1\n",
      "1\n",
      "input>>>1\n",
      "<class 'str'>\n",
      "<class 'int'>\n"
     ]
    }
   ],
   "source": [
    "#inputのサンプル\n",
    "a = input()\n",
    "print(a)\n",
    "#入力メッセージも書くことができる\n",
    "b = input('input>>>')\n",
    "print(b)\n",
    "#inputで受け取った値はstr型なのでintに変換しましょう\n",
    "c = input('input>>>')\n",
    "print(type(c))\n",
    "c = int(c)\n",
    "print(type(c))"
   ]
  },
  {
   "cell_type": "markdown",
   "metadata": {},
   "source": [
    "### 上記のヒントを参考に数当てゲームを実装せよ"
   ]
  },
  {
   "cell_type": "code",
   "execution_count": 11,
   "metadata": {},
   "outputs": [
    {
     "name": "stdout",
     "output_type": "stream",
     "text": [
      "数当てゲームスタート\n",
      "1~100までの数を当ててください(1回目)\n",
      ">>12\n",
      "もっと大きな数です\n",
      "1~100までの数を当ててください(2回目)\n",
      ">>123\n",
      "範囲内の数を入力してください\n",
      "1~100までの数を当ててください(2回目)\n",
      ">>24\n",
      "もっと大きな数です\n",
      "1~100までの数を当ててください(3回目)\n",
      ">>45\n",
      "もっと大きな数です\n",
      "1~100までの数を当ててください(4回目)\n",
      ">>56\n",
      "もっと大きな数です\n",
      "1~100までの数を当ててください(5回目)\n",
      ">>67\n",
      "もっと大きな数です\n",
      "1~100までの数を当ててください(6回目)\n",
      ">>78\n",
      "もっと小さい数です\n",
      "1~100までの数を当ててください(7回目)\n",
      ">>70\n",
      "正解です！\n",
      "終了です\n"
     ]
    }
   ],
   "source": [
    "#数当てゲームを実装せよ(５点)\n",
    "miss = 0\n",
    "print(\"数当てゲームスタート\")\n",
    "\n",
    "from random import randint\n",
    "ans = randint(1,100)\n",
    "\n",
    "for i in range(1,1000):\n",
    "    if i-miss > 20:\n",
    "        break\n",
    "    \n",
    "    print('1~100までの数を当ててください(%d回目)' % int(i-miss))\n",
    "    x = input('>>')\n",
    "    \n",
    "    if int(x) > 100 or int(x) < 1:\n",
    "        print('範囲内の数を入力してください')\n",
    "        miss+=1\n",
    "    elif int(x) == ans:\n",
    "        print('正解です！')\n",
    "        break\n",
    "    elif int(x) > ans:\n",
    "        print('もっと小さい数です')\n",
    "    elif int(x) < ans:\n",
    "        print('もっと大きな数です')\n",
    "        \n",
    "print('終了です')\n",
    "    \n"
   ]
  },
  {
   "cell_type": "markdown",
   "metadata": {},
   "source": [
    "# 問1.3 深さ優先探索 (応用問題:解答しなくても良い)\n",
    "深さ優先探索は、木やグラフを探索するためのアルゴリズムである。アルゴリズムは根から(グラフの場合はどのノードを根にするか決定する)始まり、バックトラックするまで可能な限り探索を行う。「縦型探索」とも呼ばれる。  \n",
    "\n",
    "<font size=\"3\" >[アルゴリズム]</font><br>\n",
    "深さ優先探索は、探索対象となる木の最初のノードから、目的のノードが見つかるか子のないノードに行き着くまで、深く伸びていく探索である。その後はバックトラックして、最も近くの探索の終わっていないノードまで戻る。\n",
    "<p><a href=\"https://commons.wikimedia.org/wiki/File:Depthfirst.png#/media/ファイル:Depthfirst.png\"><img src=\"https://upload.wikimedia.org/wikipedia/commons/2/2c/Depthfirst.png\" alt=\"Depthfirst.png\"></a><br><a href=\"http://www.gnu.org/licenses/old-licenses/fdl-1.2.html\" title=\"GNU Free Documentation License 1.2\">深さ探索の例</a>, <a href=\"https://commons.wikimedia.org/w/index.php?curid=300128\">Link</a></p>\n",
    "\n",
    "以下は疑似言語での実装例である。\n",
    ">function 深さ優先探索(v)  \n",
    "　　S ← 空のスタック  \n",
    "　　v に訪問済みの印を付ける  \n",
    "　　v を S に積む  \n",
    "　　while S が空ではない do  \n",
    "　　　　v ← S から取り出す  \n",
    "　　　　v を処理する  \n",
    "　　　　for each v に接続している頂点 i do  \n",
    "　　　　　　if i が未訪問 then  \n",
    "　　　　　　i に訪問済みの印を付ける  \n",
    "　　　　　　i を S に積む  "
   ]
  },
  {
   "cell_type": "markdown",
   "metadata": {
    "scrolled": true
   },
   "source": [
    "<font size=\"3\" >[ヒント1]</font>  \n",
    "listの特定の位置に挿入するには`insert()`、末尾に追加するには`append()`を、listから値を取り出すには`pop()`を使う。"
   ]
  },
  {
   "cell_type": "code",
   "execution_count": 4,
   "metadata": {},
   "outputs": [
    {
     "name": "stdout",
     "output_type": "stream",
     "text": [
      "[9, 1, 2, 3, 4, 5]\n"
     ]
    }
   ],
   "source": [
    "#insertの例\n",
    "List_A = [1, 2, 3, 4 , 5]\n",
    "List_A.insert(0, 9) #List_Aの0番目に9を追加\n",
    "print(List_A)"
   ]
  },
  {
   "cell_type": "code",
   "execution_count": 5,
   "metadata": {},
   "outputs": [
    {
     "name": "stdout",
     "output_type": "stream",
     "text": [
      "[1, 2, 3, 4, 5, 6]\n"
     ]
    }
   ],
   "source": [
    "#appendの例\n",
    "List_B = [1, 2, 3, 4 , 5]\n",
    "List_B.append(6) #List_Bの末尾に6を追加\n",
    "print(List_B) "
   ]
  },
  {
   "cell_type": "code",
   "execution_count": 6,
   "metadata": {},
   "outputs": [
    {
     "name": "stdout",
     "output_type": "stream",
     "text": [
      "s = 1\n",
      "List_C = [2, 3, 4, 5]\n"
     ]
    }
   ],
   "source": [
    "List_C = [1, 2, 3, 4 , 5]\n",
    "s = List_C.pop(0) #List_Cの0番目を取り出す\n",
    "print('s = {}'.format(s))\n",
    "print('List_C = {}'.format(List_C))"
   ]
  },
  {
   "cell_type": "markdown",
   "metadata": {},
   "source": [
    "<font size=\"3\" >[ヒント2]</font>  \n",
    "pythonのlistは`+`で結合できる"
   ]
  },
  {
   "cell_type": "code",
   "execution_count": 55,
   "metadata": {},
   "outputs": [
    {
     "name": "stdout",
     "output_type": "stream",
     "text": [
      "[9, 1, 2, 3, 4, 5, 1, 2, 3, 4, 5, 6]\n"
     ]
    }
   ],
   "source": [
    "List_D = List_A+List_B\n",
    "print(List_D)"
   ]
  },
  {
   "cell_type": "markdown",
   "metadata": {},
   "source": [
    "[ヒント3]\n",
    "dict型は`keys()`,`values()`,`items()`で値を取り出せる。"
   ]
  },
  {
   "cell_type": "code",
   "execution_count": 57,
   "metadata": {},
   "outputs": [
    {
     "name": "stdout",
     "output_type": "stream",
     "text": [
      "key1\n",
      "key2\n",
      "key3\n"
     ]
    }
   ],
   "source": [
    "#dictのkey取得\n",
    "d = {'key1': 1, 'key2': 2, 'key3': 3}\n",
    "for k in d.keys():\n",
    "    print(k)"
   ]
  },
  {
   "cell_type": "code",
   "execution_count": 59,
   "metadata": {},
   "outputs": [
    {
     "name": "stdout",
     "output_type": "stream",
     "text": [
      "1\n",
      "2\n",
      "3\n"
     ]
    }
   ],
   "source": [
    "#dictの値(value)の取得\n",
    "for v in d.values():\n",
    "    print(v)"
   ]
  },
  {
   "cell_type": "code",
   "execution_count": 60,
   "metadata": {},
   "outputs": [
    {
     "name": "stdout",
     "output_type": "stream",
     "text": [
      "key1 1\n",
      "key2 2\n",
      "key3 3\n"
     ]
    }
   ],
   "source": [
    "#dictのkeyと値の取得\n",
    "for k,v in d.items():\n",
    "    print(k,v)"
   ]
  },
  {
   "cell_type": "markdown",
   "metadata": {},
   "source": [
    "### ヒント*を参考 に以下の経路を深さ優先探索で探索せよ\n",
    "※ヒントを必ずしも用いなくて良い\n",
    "<p><a href=\"https://commons.wikimedia.org/wiki/File:Depth-first-tree.png#/media/ファイル:Depth-first-tree.png\"><img src=\"https://upload.wikimedia.org/wikipedia/commons/5/5d/Depth-first-tree.png\" alt=\"Order in which the nodes get expanded\"></a><br>\n"
   ]
  },
  {
   "cell_type": "code",
   "execution_count": 53,
   "metadata": {},
   "outputs": [],
   "source": [
    "#経路設定の例(変えても構いません 隣接行列を用いても良い)\n",
    "route = {1 : [2, 7, 8], 2 : [3, 6], 3 : [4,5], 4 : [], 5 : [], 6: [], 7 : [], 8 : [9,12], 9 : [10, 11], 10 : [], 11: [], 12 : []}"
   ]
  },
  {
   "cell_type": "code",
   "execution_count": 11,
   "metadata": {},
   "outputs": [],
   "source": [
    "## 深さ探索優先を実装せよ(5点)\n"
   ]
  },
  {
   "cell_type": "markdown",
   "metadata": {},
   "source": [
    "## 問1.4 クラス\n",
    "名前と血液型と体重と身長をインスタンス変数とし、BMIを計算をするcalc_bmiメソッドと、指標に基づいて体型を評価するeval_bmiメソッドと、情報を表示するshowメソッドをもつクラス「Person」を作成したい。BMIは体重 $w[kg]$, 身長$h[m]$とすると、$$BMI = w/h^2$$と表すことができる。また、$$18.5 \\leq BMI < 25.0$$を標準BMIとし、標準BMI未満は痩せ型、標準BMI以上は肥満型とする。\n",
    "\n",
    "\n",
    "\n",
    "ここでは、例えば、名前が○○, 血液型が?型, 体重45.0kg, 身長1.50mの人は\n",
    "```\n",
    "○○さんの血液型は?型で、BMIは20.00で標準体型です。\n",
    "```\n",
    "と表示されるようにしたい。  "
   ]
  },
  {
   "cell_type": "markdown",
   "metadata": {},
   "source": [
    "### 以下のコードを埋めよ。"
   ]
  },
  {
   "cell_type": "code",
   "execution_count": 6,
   "metadata": {},
   "outputs": [
    {
     "name": "stdout",
     "output_type": "stream",
     "text": [
      "森さんの血液型はB型で、BMIは18で標準体型です。\n"
     ]
    }
   ],
   "source": [
    "class Person:\n",
    "    def __init__(self, name, blood_type, weight, height):\n",
    "        # ここに入力してください。（1点）\n",
    "        self.name = name\n",
    "        self.blood_type = blood_type\n",
    "        self.weight = weight\n",
    "        self.height = height\n",
    "    def calc_bmi(self):\n",
    "        # ここに入力してください。（1点）\n",
    "        return self.weight / self.height ** 2\n",
    "    def eval_bmi(self):\n",
    "        # ここに入力してください。（1点）\n",
    "        if self.calc_bmi() < 18.5:\n",
    "            return '痩せ型'\n",
    "        elif self.calc_bmi() > 25.0:\n",
    "            return '肥満型'\n",
    "        else:\n",
    "            return '標準体型'\n",
    "    def show(self):\n",
    "        # ここに入力してください。（1点）\n",
    "        print('{0}さんの血液型は{1}型で、BMIは{2:.2}で{3}です。'.format(self.name, self.blood_type, str(self.calc_bmi()), self.eval_bmi()))\n",
    "# 名前が「森」、血液型は「B型」、体重は「58.0kg」、 身長は「1.75m」のインスタンスを生成して、\n",
    "# 上の例のように出力する(BMIは小数点以下2桁まで表示)コードを書いてください。（1点）\n",
    "\n",
    "mori = Person('森', 'B', 58.0, 1.75)\n",
    "mori.show()"
   ]
  },
  {
   "cell_type": "markdown",
   "metadata": {},
   "source": [
    "## 問2 準標準ライブラリ(?/15)点"
   ]
  },
  {
   "cell_type": "markdown",
   "metadata": {},
   "source": [
    "### 問2.1 Matplotlib\n",
    "`fruits.txt`という10種類の果物を1000個書き込んだテキストファイルがある。\n",
    "`fruits.txt`は以下の形式である。`¥n`は改行コードである。\n",
    "```\n",
    "apple¥n\n",
    "banana¥n\n",
    "   .\n",
    "   .\n",
    "   .\n",
    "```\n",
    "\n",
    "このファイルを解析する以下の問いに答えよ"
   ]
  },
  {
   "cell_type": "code",
   "execution_count": 61,
   "metadata": {},
   "outputs": [],
   "source": [
    "#一度だけ実行すること\n",
    "import random\n",
    "random.seed(1)\n",
    "with open('fruits.txt','w') as f:\n",
    "    for _ in range(1000):\n",
    "        f.write(random.choice(['apple', 'orange', 'strawberry', 'cherry', 'plum','banana', 'grape','melon', 'peach', 'watermelon'])+'\\n')"
   ]
  },
  {
   "cell_type": "markdown",
   "metadata": {},
   "source": [
    "### (1)`fruits.txt`からデータを読み込み、list型の変数`fruits`を作成せよ\n",
    ">fruits = [apple,banana, ....]"
   ]
  },
  {
   "cell_type": "markdown",
   "metadata": {},
   "source": [
    "<font size=\"3\" >[ヒント]</font>  \n",
    "ファイルの読み込みには`with open('filepath','r') as f`を使う"
   ]
  },
  {
   "cell_type": "code",
   "execution_count": 9,
   "metadata": {},
   "outputs": [],
   "source": [
    "## listにする(1点)\n"
   ]
  },
  {
   "cell_type": "markdown",
   "metadata": {},
   "source": [
    "### (2)`fruits`にある果物の種類を表示するlist型の変数`fruits_list`の作成及び、果物の数を表示せよ。"
   ]
  },
  {
   "cell_type": "code",
   "execution_count": 10,
   "metadata": {},
   "outputs": [],
   "source": [
    "## fruits_listの作成(2点)\n",
    "\n",
    "##フルーツの種類の出力(1点)\n"
   ]
  },
  {
   "cell_type": "markdown",
   "metadata": {},
   "source": [
    "### (3)`fruits`に果物がそれぞれ何個ずつあるのかを表示するdict型の変数`fruits_num`を作成せよ\n",
    "> fruits_num = {'peach': 10, 'melon'30, ....}"
   ]
  },
  {
   "cell_type": "code",
   "execution_count": 5,
   "metadata": {},
   "outputs": [],
   "source": [
    "## fruits_numの作成\n"
   ]
  },
  {
   "cell_type": "markdown",
   "metadata": {},
   "source": [
    "### (4)matplotlibを用いてfruits_numを以下の指示に従って可視化せよ。\n",
    "1. 棒グラフで表示する。\n",
    "1. 縦軸は果物の個数,横軸は果物名をラベルとする。\n",
    "1. ラベルが重ならないように工夫すること。\n",
    "1. グラフのタイトル、縦軸、横軸のキャプションをつけること。"
   ]
  },
  {
   "cell_type": "code",
   "execution_count": 6,
   "metadata": {},
   "outputs": [],
   "source": [
    "#グラフの表示(4点)\n"
   ]
  },
  {
   "cell_type": "markdown",
   "metadata": {},
   "source": [
    "### 問2.2 Numpy\n",
    "問2.1で求めたデータからnumpyによるデータ分析の以下の問いに答えよ"
   ]
  },
  {
   "cell_type": "markdown",
   "metadata": {},
   "source": [
    "### (1)以下のnumpy配列A,Bを作成せよ\n",
    "$$\n",
    "A = \\left(\n",
    "\\begin{matrix} \n",
    " strawberryの個数　 & watermelonの個数　 \\\\ \n",
    "orangeの個数　 & bananaの個数　 \n",
    "\\end{matrix} \n",
    "\\right)\n",
    "$$\n",
    "$$\n",
    "B = \\left(\n",
    "\\begin{matrix} \n",
    " plumの個数　 & grapeの個数　 \\\\ \n",
    "cherryの個数　 & appleの個数　 \n",
    "\\end{matrix} \n",
    "\\right)\n",
    "$$"
   ]
  },
  {
   "cell_type": "code",
   "execution_count": 7,
   "metadata": {},
   "outputs": [],
   "source": [
    "## 配列Aの作成(1点)\n",
    "\n",
    "## 配列Aの作成(1点)\n"
   ]
  },
  {
   "cell_type": "markdown",
   "metadata": {},
   "source": [
    "### (2)行列の和`A+B`及び、積`AB`を表示せよ"
   ]
  },
  {
   "cell_type": "code",
   "execution_count": 8,
   "metadata": {},
   "outputs": [],
   "source": [
    "## 行列の和(1点)\n",
    "\n",
    "## 行列の積(1点)\n"
   ]
  }
 ],
 "metadata": {
  "kernelspec": {
   "display_name": "Python 3",
   "language": "python",
   "name": "python3"
  },
  "language_info": {
   "codemirror_mode": {
    "name": "ipython",
    "version": 3
   },
   "file_extension": ".py",
   "mimetype": "text/x-python",
   "name": "python",
   "nbconvert_exporter": "python",
   "pygments_lexer": "ipython3",
   "version": "3.6.8"
  }
 },
 "nbformat": 4,
 "nbformat_minor": 4
}
